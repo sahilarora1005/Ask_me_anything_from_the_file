{
 "cells": [
  {
   "cell_type": "code",
   "execution_count": 1276,
   "id": "d6d32ece-ec2b-4d0f-a4b7-a76fb062f83f",
   "metadata": {},
   "outputs": [],
   "source": [
    "import pandas as pd"
   ]
  },
  {
   "cell_type": "code",
   "execution_count": 1278,
   "id": "fd59fb67-5193-479f-ab41-a84cd3f5e310",
   "metadata": {},
   "outputs": [],
   "source": [
    "df=pd.read_csv('File_path')"
   ]
  },
  {
   "cell_type": "code",
   "execution_count": 1280,
   "id": "99716339-4400-4c41-bdf9-3fa2f118a176",
   "metadata": {},
   "outputs": [],
   "source": [
    "f= open(r\"C:\\Users\\sahil\\OneDrive\\Documents\\Gen AI\\Gen AI Key\\New_Key_301.txt\")\n",
    "OPENAI_API_KEY = f.read()\n",
    "\n"
   ]
  },
  {
   "cell_type": "code",
   "execution_count": 1282,
   "id": "f5694ec2-227a-44f2-a671-8642e1ef69e4",
   "metadata": {},
   "outputs": [],
   "source": [
    "from langchain_openai import ChatOpenAI\n",
    "chat_model = ChatOpenAI(api_key=OPENAI_API_KEY, model=\"gpt-4o-mini\")"
   ]
  },
  {
   "cell_type": "code",
   "execution_count": 1283,
   "id": "e4282c4b-3296-4eb9-ae26-6924ceffdaaf",
   "metadata": {},
   "outputs": [],
   "source": [
    "from langchain_core.prompts import ChatPromptTemplate\n",
    "\n",
    "chat_template = ChatPromptTemplate.from_messages(\n",
    "[\n",
    "    (\"system\", '''You are an expert data scientist with strong Python and pandas skills. \n",
    "    You are given access to a DataFrame called `{df}`. \n",
    "    The user may ask any question related to this data. \n",
    "    and you need to just give the python codes and no other thing is required. i don't want to see ```python and ... in starting and end. \n",
    "    you need to import all essential lib when you genrate the code\n",
    "    one more thing say you are creating some code like\n",
    "    df['Date'] = pd.to_datetime(df['Date'])\n",
    "    df['Month'] = df['Date'].dt.to_period('M')\n",
    "    average_revenue_per_month = df.groupby('Month')['Revenue'].mean()\n",
    "\n",
    "    after this you need to give average_revenue_per_month, as we need to call the fuction.\n",
    "'''),\n",
    "    (\"human\", \"{user_input}\"),\n",
    "]\n",
    ")\n"
   ]
  },
  {
   "cell_type": "code",
   "execution_count": 1284,
   "id": "f024243b-c69d-463c-ad61-c748eb802c05",
   "metadata": {},
   "outputs": [
    {
     "data": {
      "text/plain": [
       "['df', 'user_input']"
      ]
     },
     "execution_count": 1284,
     "metadata": {},
     "output_type": "execute_result"
    }
   ],
   "source": [
    "chat_template.input_variables"
   ]
  },
  {
   "cell_type": "code",
   "execution_count": 1285,
   "id": "d78febd6-a35f-480a-87b6-d3889373c445",
   "metadata": {},
   "outputs": [],
   "source": [
    "from langchain_core.output_parsers import StrOutputParser\n",
    "\n",
    "output_parser = StrOutputParser()"
   ]
  },
  {
   "cell_type": "code",
   "execution_count": 1286,
   "id": "829fb5d6-c236-457e-be44-b14abc5da044",
   "metadata": {},
   "outputs": [],
   "source": [
    "chain = chat_template | chat_model | output_parser"
   ]
  },
  {
   "cell_type": "code",
   "execution_count": 1287,
   "id": "90a9d5a4-36f9-4b3f-9774-24ac8207d892",
   "metadata": {},
   "outputs": [],
   "source": [
    "raw_input= {'df':df, 'user_input': 'avag revenue based on categories duing each month'}\n"
   ]
  },
  {
   "cell_type": "code",
   "execution_count": 1288,
   "id": "27062076-30ea-48b3-863d-5d56cc2729a1",
   "metadata": {},
   "outputs": [],
   "source": [
    "def execute_llm_code(raw_input, dataframe):\n",
    "    # Get the code from the LLM\n",
    "    code = chain.invoke({\"df\": dataframe, \"user_input\": raw_input})\n",
    "    \n",
    "    # Create a local namespace to execute the code\n",
    "    local_namespace = {\"df\": dataframe, \"pd\": pd}\n",
    "    \n",
    "    # Execute the code\n",
    "    try:\n",
    "        print(\"Executing code:\")\n",
    "        print(\"--------------\")\n",
    "        print(code)\n",
    "        print(\"--------------\")\n",
    "        \n",
    "        # Execute the code in the local namespace\n",
    "        exec(code, globals(), local_namespace)\n",
    "        \n",
    "        # Get the last variable name in the code\n",
    "        lines = code.strip().split(\"\\n\")\n",
    "        last_line = lines[-1].strip()\n",
    "        \n",
    "        # Check if the last line is just a variable name\n",
    "        if last_line in local_namespace and not last_line.startswith((\"import\", \"from\", \"#\", \"df[\", \"print\")):\n",
    "            print(\"\\nResult:\")\n",
    "            print(local_namespace[last_line])\n",
    "            return local_namespace[last_line]\n",
    "        else:\n",
    "            # Try to evaluate the last line\n",
    "            try:\n",
    "                result = eval(last_line, globals(), local_namespace)\n",
    "                print(\"\\nResult:\")\n",
    "                print(result)\n",
    "                return result\n",
    "            except:\n",
    "                print(\"\\nNo explicit result to display.\")\n",
    "                return None\n",
    "    except Exception as e:\n",
    "        print(f\"Error executing code: {str(e)}\")\n",
    "        return None"
   ]
  },
  {
   "cell_type": "code",
   "execution_count": 1289,
   "id": "07322950-d119-47eb-8a01-7e3347a489f1",
   "metadata": {},
   "outputs": [],
   "source": [
    "def interactive_data_analysis(dataframe):\n",
    "    print(\"Data Analysis Assistant\")\n",
    "    print(\"Type 'exit' to quit\")\n",
    "    \n",
    "    while True:\n",
    "        # Get user query using input function\n",
    "        query = input(\"\\nWhat would you like to know about the data? \")\n",
    "        \n",
    "        # Check for exit command\n",
    "        if query.lower() in ['exit', 'quit', 'q']:\n",
    "            print(\"Exiting data analysis assistant.\")\n",
    "            break\n",
    "        \n",
    "        # Process the query\n",
    "        result = execute_llm_code(query, dataframe)"
   ]
  },
  {
   "cell_type": "code",
   "execution_count": null,
   "id": "689d7b6b-3c35-4dcd-a4f8-29483549d845",
   "metadata": {},
   "outputs": [
    {
     "name": "stdout",
     "output_type": "stream",
     "text": [
      "Data Analysis Assistant\n",
      "Type 'exit' to quit\n"
     ]
    }
   ],
   "source": [
    "interactive_data_analysis(df)"
   ]
  },
  {
   "cell_type": "code",
   "execution_count": null,
   "id": "8b66a15c-f52b-4dc2-9758-f30597c82e6f",
   "metadata": {},
   "outputs": [],
   "source": []
  },
  {
   "cell_type": "code",
   "execution_count": null,
   "id": "1dca1bb5-060d-4b8c-83d7-7a954e5f95a1",
   "metadata": {},
   "outputs": [],
   "source": []
  }
 ],
 "metadata": {
  "kernelspec": {
   "display_name": "Python [conda env:base] *",
   "language": "python",
   "name": "conda-base-py"
  },
  "language_info": {
   "codemirror_mode": {
    "name": "ipython",
    "version": 3
   },
   "file_extension": ".py",
   "mimetype": "text/x-python",
   "name": "python",
   "nbconvert_exporter": "python",
   "pygments_lexer": "ipython3",
   "version": "3.12.7"
  }
 },
 "nbformat": 4,
 "nbformat_minor": 5
}
